{
 "cells": [
  {
   "cell_type": "code",
   "execution_count": 1,
   "id": "fcb31019",
   "metadata": {},
   "outputs": [],
   "source": [
    "import torch"
   ]
  },
  {
   "cell_type": "code",
   "execution_count": 2,
   "id": "07cc6a06",
   "metadata": {},
   "outputs": [
    {
     "name": "stdout",
     "output_type": "stream",
     "text": [
      "tensor(2.4750)\n",
      "tensor(2.4750)\n",
      "torch.Size([30])\n",
      "torch.Size([1, 30])\n"
     ]
    }
   ],
   "source": [
    "t = torch.randn(30,30)\n",
    "print(t[1].sum())\n",
    "print(t[1:2,:].sum())\n",
    "print(t[1].shape)\n",
    "print(t[1:2,:].shape)"
   ]
  },
  {
   "cell_type": "code",
   "execution_count": 3,
   "id": "ea89ee5c",
   "metadata": {},
   "outputs": [],
   "source": [
    "import torch\n",
    "\n",
    "# Inputs\n",
    "x = torch.randn(12,12,12)\n",
    "b = torch.randn(12,12)\n",
    "p = torch.rand((12,12))\n",
    "B,T,C = x.shape\n",
    "\n",
    "# Check what indices to keep\n",
    "keep_ix = b > 0.5 # (B,T), bool\n",
    "counts = keep_ix.sum(dim=1) # (B,) => How many items to keep per row, max will be padding\n",
    "Tds = int(counts.max().item()) # Padding index\n",
    "\n",
    "# Bringing keep_ix==True to the front to discard all other ix\n",
    "perm = torch.argsort(keep_ix.to(torch.int8), dim=1, descending=True, stable=True)  # (B, T), with index we want to keep in front\n",
    "sel = perm[:, :Tds]                       # (B, Tds), padded\n",
    "\n",
    "# Dechunk mask for position & gather chunks\n",
    "mask_ds = torch.arange(Tds, device=x.device).unsqueeze(0) < counts.unsqueeze(1) # (B, Tds), masking range above count\n",
    "x_chunks = torch.take_along_dim(x, sel.unsqueeze(-1).expand(-1, -1, C), dim=1) # (B, Tds, E)\n",
    "P_chunks = torch.take_along_dim(p, sel, dim=1) # (B, Tds)\n",
    "\n",
    "# Zero-Out padding\n",
    "x_chunks = x_chunks.masked_fill(~mask_ds.unsqueeze(-1), 0)\n",
    "P_chunks = P_chunks.masked_fill(~mask_ds, 0)\n",
    "gather_idx = sel.masked_fill(~mask_ds, 0)     \n",
    "\n",
    "# State for dechunking\n",
    "state = {\n",
    "    \"p_full\": p, # (B, T)\n",
    "    \"b_full\": b, # (B, T)\n",
    "    \"gather_idx\": gather_idx, # (B, Tds)\n",
    "    \"mask_ds\": mask_ds, # (B, Tds)\n",
    "}\n"
   ]
  },
  {
   "cell_type": "code",
   "execution_count": 4,
   "id": "36487e6f",
   "metadata": {},
   "outputs": [
    {
     "name": "stdout",
     "output_type": "stream",
     "text": [
      "tensor(0.9839)\n"
     ]
    }
   ],
   "source": [
    "att_mask=None\n",
    "N = 3\n",
    "B,T = p.shape\n",
    "att_mask = att_mask if att_mask else torch.ones((B,T))\n",
    "L = att_mask.sum(dim=1).clamp_min(1).float() # (B,)\n",
    "F = ((b > 0.5).float() * att_mask.float()).sum(dim=1) / L # \"\"\n",
    "G = (p * att_mask.float()).sum(dim=1) / L   # \"\"\n",
    "ratio = (N/(N-1)) * (((N - 1.0) * F * G) + ((1.0 - F) * (1.0 - G))) # \"\"\n",
    "print(ratio.mean())"
   ]
  },
  {
   "cell_type": "code",
   "execution_count": 5,
   "id": "1166affd",
   "metadata": {},
   "outputs": [],
   "source": [
    "import torch\n",
    "from hnet import DynChunking, HNetConfig"
   ]
  },
  {
   "cell_type": "code",
   "execution_count": 6,
   "id": "01aedcd5",
   "metadata": {},
   "outputs": [
    {
     "name": "stdout",
     "output_type": "stream",
     "text": [
      "bt: torch.Size([512, 512]), p: torch.Size([512, 512])\n",
      "xchunks: torch.Size([512, 289, 512]), pchunks: torch.Size([512, 289]), mask_ds: torch.Size([512, 289])\n"
     ]
    }
   ],
   "source": [
    "d = DynChunking(512,0.5,HNetConfig)\n",
    "x = torch.randn((512,512,512))\n",
    "p,bt=d.route(x)\n",
    "print(f\"bt: {bt.shape}, p: {p.shape}\")\n",
    "x_chunks, P_chunks, mask_ds, state = d.downsample(x,p,bt)\n",
    "print(f\"xchunks: {x_chunks.shape}, pchunks: {P_chunks.shape}, mask_ds: {mask_ds.shape}\")"
   ]
  },
  {
   "cell_type": "code",
   "execution_count": 7,
   "id": "70afa243",
   "metadata": {},
   "outputs": [
    {
     "data": {
      "text/plain": [
       "torch.Size([512, 289, 289])"
      ]
     },
     "execution_count": 7,
     "metadata": {},
     "output_type": "execute_result"
    }
   ],
   "source": [
    "# EMA\n",
    "z_t = x_chunks\n",
    "pt = P_chunks \n",
    "zt_hat = z_t @ pt\n",
    "zt_hat_inv = torch.roll(z_t, shifts=1, dims=1) @ (pt.new_ones(pt.shape) - pt) \n",
    "(zt_hat+zt_hat_inv).shape"
   ]
  },
  {
   "cell_type": "code",
   "execution_count": 8,
   "id": "ebb1b21d",
   "metadata": {},
   "outputs": [
    {
     "data": {
      "text/plain": [
       "tensor([1, 0, 1, 2, 3, 4, 5, 6, 7, 8, 9])"
      ]
     },
     "execution_count": 8,
     "metadata": {},
     "output_type": "execute_result"
    }
   ],
   "source": [
    "a = torch.arange(10)\n",
    "b = torch.tensor([1])\n",
    "torch.concat((b,a))"
   ]
  },
  {
   "cell_type": "code",
   "execution_count": 9,
   "id": "c94d36b1",
   "metadata": {},
   "outputs": [
    {
     "data": {
      "text/plain": [
       "torch.Size([512, 512])"
      ]
     },
     "execution_count": 9,
     "metadata": {},
     "output_type": "execute_result"
    }
   ],
   "source": [
    "# Upsampling (6)\n",
    "ct = (p ** bt) * (p.new_zeros(p.shape) - p) ** bt\n",
    "ct.shape"
   ]
  },
  {
   "cell_type": "code",
   "execution_count": 13,
   "id": "fafd5098",
   "metadata": {},
   "outputs": [],
   "source": [
    "B,T,C = x.shape\n",
    "pt, bt, gather_idx, mask_ds = state[\"p_full\"], state[\"b_full\"], state[\"gather_idx\"], state[\"mask_ds\"]\n",
    "bt_int = (bt > 0.5).long() # (B,T)\n",
    "idx = torch.cumsum(bt_int, dim=1) - 1 # (B,T), determine what index to expand\n",
    "idx = idx.clamp(min=0, max=Tds - 1) # (B,T), cut to padding length\n",
    "i_arange = torch.arange(B, device=x_chunks.device).unsqueeze(1).expand(B, T) # \n",
    "z_up = x_chunks[i_arange, idx] "
   ]
  },
  {
   "cell_type": "code",
   "execution_count": 17,
   "id": "1de6e4eb",
   "metadata": {},
   "outputs": [
    {
     "name": "stdout",
     "output_type": "stream",
     "text": [
      "torch.Size([512, 512])\n"
     ]
    }
   ],
   "source": [
    "print(i_arange.shape)"
   ]
  },
  {
   "cell_type": "code",
   "execution_count": null,
   "id": "e4cc0808",
   "metadata": {},
   "outputs": [
    {
     "data": {
      "text/plain": [
       "tensor(True)"
      ]
     },
     "execution_count": 98,
     "metadata": {},
     "output_type": "execute_result"
    }
   ],
   "source": [
    "a = torch.randn(32,32,32)\n",
    "b = torch.randn(32,32,32)\n",
    "c = torch.bmm(a,b)\n",
    "d = a @ b\n",
    "torch.all(c == d)"
   ]
  },
  {
   "cell_type": "code",
   "execution_count": null,
   "id": "73978c3a",
   "metadata": {},
   "outputs": [
    {
     "data": {
      "text/plain": [
       "tensor([ -1.2715,  -3.2769,  -4.8626,  -8.4185,  -9.8799, -10.1357, -10.3183,\n",
       "        -11.7566])"
      ]
     },
     "execution_count": 119,
     "metadata": {},
     "output_type": "execute_result"
    }
   ],
   "source": [
    "S[0]"
   ]
  },
  {
   "cell_type": "code",
   "execution_count": null,
   "id": "ea7df54c",
   "metadata": {},
   "outputs": [
    {
     "data": {
      "text/plain": [
       "2.0054"
      ]
     },
     "execution_count": 126,
     "metadata": {},
     "output_type": "execute_result"
    }
   ],
   "source": [
    "(-1.2715+3.2769)"
   ]
  },
  {
   "cell_type": "code",
   "execution_count": null,
   "id": "f5f6c70b",
   "metadata": {},
   "outputs": [
    {
     "data": {
      "text/plain": [
       "tensor([[  0.0000,   2.0053,   3.5911,   7.1469,   8.6083,   8.8642,   9.0468,\n",
       "          10.4851],\n",
       "        [ -2.0053,   0.0000,   1.5857,   5.1416,   6.6030,   6.8589,   7.0414,\n",
       "           8.4798],\n",
       "        [ -3.5911,  -1.5857,   0.0000,   3.5559,   5.0173,   5.2732,   5.4557,\n",
       "           6.8940],\n",
       "        [ -7.1469,  -5.1416,  -3.5559,   0.0000,   1.4614,   1.7173,   1.8998,\n",
       "           3.3382],\n",
       "        [ -8.6083,  -6.6030,  -5.0173,  -1.4614,   0.0000,   0.2559,   0.4384,\n",
       "           1.8768],\n",
       "        [ -8.8642,  -6.8589,  -5.2732,  -1.7173,  -0.2559,   0.0000,   0.1826,\n",
       "           1.6209],\n",
       "        [ -9.0468,  -7.0414,  -5.4557,  -1.8998,  -0.4384,  -0.1826,   0.0000,\n",
       "           1.4383],\n",
       "        [-10.4851,  -8.4798,  -6.8940,  -3.3382,  -1.8768,  -1.6209,  -1.4383,\n",
       "           0.0000]])"
      ]
     },
     "execution_count": 120,
     "metadata": {},
     "output_type": "execute_result"
    }
   ],
   "source": [
    "delta[0]"
   ]
  },
  {
   "cell_type": "code",
   "execution_count": 23,
   "id": "bebb386b",
   "metadata": {},
   "outputs": [
    {
     "data": {
      "text/plain": [
       "torch.Size([12, 64, 128])"
      ]
     },
     "execution_count": 23,
     "metadata": {},
     "output_type": "execute_result"
    }
   ],
   "source": [
    "zt = torch.randn(12,64,128)\n",
    "ct = torch.randn(12,64)\n",
    "(ct.unsqueeze(-1)*zt).shape"
   ]
  }
 ],
 "metadata": {
  "kernelspec": {
   "display_name": "venv",
   "language": "python",
   "name": "python3"
  },
  "language_info": {
   "codemirror_mode": {
    "name": "ipython",
    "version": 3
   },
   "file_extension": ".py",
   "mimetype": "text/x-python",
   "name": "python",
   "nbconvert_exporter": "python",
   "pygments_lexer": "ipython3",
   "version": "3.13.5"
  }
 },
 "nbformat": 4,
 "nbformat_minor": 5
}
