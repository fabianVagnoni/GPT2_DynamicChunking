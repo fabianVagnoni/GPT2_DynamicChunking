{
 "cells": [
  {
   "cell_type": "code",
   "execution_count": 2,
   "id": "fcb31019",
   "metadata": {},
   "outputs": [],
   "source": [
    "import torch"
   ]
  },
  {
   "cell_type": "code",
   "execution_count": 54,
   "id": "07cc6a06",
   "metadata": {},
   "outputs": [
    {
     "name": "stdout",
     "output_type": "stream",
     "text": [
      "tensor(0.9167)\n",
      "tensor(0.9167)\n",
      "torch.Size([30])\n",
      "torch.Size([1, 30])\n"
     ]
    }
   ],
   "source": [
    "t = torch.randn(30,30)\n",
    "print(t[1].sum())\n",
    "print(t[1:2,:].sum())\n",
    "print(t[1].shape)\n",
    "print(t[1:2,:].shape)"
   ]
  },
  {
   "cell_type": "code",
   "execution_count": 102,
   "id": "ea89ee5c",
   "metadata": {},
   "outputs": [],
   "source": [
    "import torch\n",
    "\n",
    "# Inputs\n",
    "x = torch.randn(12,12,12)\n",
    "b = torch.randn(12,12)\n",
    "p = torch.rand((12,12))\n",
    "B,T,C = x.shape\n",
    "\n",
    "# Check what indices to keep\n",
    "keep_ix = b > 0.5 # (B,T), bool\n",
    "counts = keep_ix.sum(dim=1) # (B,) => How many items to keep per row, max will be padding\n",
    "Tds = int(counts.max().item()) # Padding index\n",
    "\n",
    "# Bringing keep_ix==True to the front to discard all other ix\n",
    "perm = torch.argsort(keep_ix.to(torch.int8), dim=1, descending=True, stable=True)  # (B, T), with index we want to keep in front\n",
    "sel = perm[:, :Tds]                       # (B, Tds), padded\n",
    "\n",
    "# Dechunk mask for position & gather chunks\n",
    "mask_ds = torch.arange(Tds, device=x_hat.device).unsqueeze(0) < counts.unsqueeze(1) # (B, Tds), masking range above count\n",
    "x_chunks = torch.take_along_dim(x_hat, sel.unsqueeze(-1).expand(-1, -1, E), dim=1) # (B, Tds, E)\n",
    "P_chunks = torch.take_along_dim(p, sel, dim=1) # (B, Tds)\n",
    "\n",
    "# Zero-Out padding\n",
    "x_chunks = x_chunks.masked_fill(~mask_ds.unsqueeze(-1), 0)\n",
    "P_chunks = P_chunks.masked_fill(~mask_ds, 0)\n",
    "gather_idx = sel.masked_fill(~mask_ds, 0)     \n",
    "\n",
    "# State for dechunking\n",
    "state = {\n",
    "    \"p_full\": p, # (B, T)\n",
    "    \"b_full\": b, # (B, T)\n",
    "    \"gather_idx\": gather_idx, # (B, Tds)\n",
    "    \"mask_ds\": mask_ds, # (B, Tds)\n",
    "}\n"
   ]
  },
  {
   "cell_type": "code",
   "execution_count": null,
   "id": "36487e6f",
   "metadata": {},
   "outputs": [
    {
     "name": "stdout",
     "output_type": "stream",
     "text": [
      "tensor(1.0304)\n"
     ]
    }
   ],
   "source": [
    "B,T = p.shape\n",
    "att_mask = att_mask if att_mask else torch.ones((B,T))\n",
    "L = att_mask.sum(dim=1).clamp_min(1).float() # (B,)\n",
    "F = ((b > 0.5).float() * att_mask.float()).sum(dim=1) / L # \"\"\n",
    "G = (p * att_mask.float()).sum(dim=1) / L   # \"\"\n",
    "ratio = coef * (((N - 1.0) * F * G) + ((1.0 - F) * (1.0 - G))) # \"\"\n",
    "print(ratio.mean())"
   ]
  },
  {
   "cell_type": "code",
   "execution_count": 1,
   "id": "1166affd",
   "metadata": {},
   "outputs": [],
   "source": [
    "import torch\n",
    "from nhet import DynChunking, HNetConfig"
   ]
  },
  {
   "cell_type": "code",
   "execution_count": 2,
   "id": "01aedcd5",
   "metadata": {},
   "outputs": [
    {
     "name": "stdout",
     "output_type": "stream",
     "text": [
      "bt: torch.Size([512, 512]), p: torch.Size([512, 512])\n",
      "xchunks: torch.Size([512, 294, 512]), pchunks: torch.Size([512, 294]), mask_ds: torch.Size([512, 294])\n"
     ]
    }
   ],
   "source": [
    "d = DynChunking(512,0.5,HNetConfig)\n",
    "x = torch.randn((512,512,512))\n",
    "p,bt=d.route(x)\n",
    "print(f\"bt: {bt.shape}, p: {p.shape}\")\n",
    "x_chunks, P_chunks, mask_ds, state = d.downsample(x,p,bt)\n",
    "print(f\"xchunks: {x_chunks.shape}, pchunks: {P_chunks.shape}, mask_ds: {mask_ds.shape}\")"
   ]
  }
 ],
 "metadata": {
  "kernelspec": {
   "display_name": "venv",
   "language": "python",
   "name": "python3"
  },
  "language_info": {
   "codemirror_mode": {
    "name": "ipython",
    "version": 3
   },
   "file_extension": ".py",
   "mimetype": "text/x-python",
   "name": "python",
   "nbconvert_exporter": "python",
   "pygments_lexer": "ipython3",
   "version": "3.13.5"
  }
 },
 "nbformat": 4,
 "nbformat_minor": 5
}
